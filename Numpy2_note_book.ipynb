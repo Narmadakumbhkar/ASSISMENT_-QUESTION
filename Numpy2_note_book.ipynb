{
  "nbformat": 4,
  "nbformat_minor": 0,
  "metadata": {
    "colab": {
      "name": "Numpy2 note book",
      "provenance": [],
      "authorship_tag": "ABX9TyO2IzOIAwb10m5mQKkkE21u",
      "include_colab_link": true
    },
    "kernelspec": {
      "name": "python3",
      "display_name": "Python 3"
    },
    "language_info": {
      "name": "python"
    }
  },
  "cells": [
    {
      "cell_type": "markdown",
      "metadata": {
        "id": "view-in-github",
        "colab_type": "text"
      },
      "source": [
        "<a href=\"https://colab.research.google.com/github/Narmadakumbhkar/ASSISMENT_-QUESTION/blob/main/Numpy2_note_book.ipynb\" target=\"_parent\"><img src=\"https://colab.research.google.com/assets/colab-badge.svg\" alt=\"Open In Colab\"/></a>"
      ]
    },
    {
      "cell_type": "markdown",
      "source": [
        "#Numpy"
      ],
      "metadata": {
        "id": "QBURX2fl9gOv"
      }
    },
    {
      "cell_type": "markdown",
      "source": [
        "# Arrays"
      ],
      "metadata": {
        "id": "BGoHGaZg9W3n"
      }
    },
    {
      "cell_type": "code",
      "source": [
        "from numpy import *\n",
        "# Single dimensional array \n",
        "array_data1 = [1.4, 7, 8, 12.3]\n",
        "array1 = array(array_data1)\n",
        "print(\"Array 1 : \",array1)"
      ],
      "metadata": {
        "colab": {
          "base_uri": "https://localhost:8080/"
        },
        "id": "pJZmPJU19aCF",
        "outputId": "e5553e2c-1cd9-4eeb-d38a-0ebd7f6fc94e"
      },
      "execution_count": null,
      "outputs": [
        {
          "output_type": "stream",
          "name": "stdout",
          "text": [
            "Array 1 :  [ 1.4  7.   8.  12.3]\n"
          ]
        }
      ]
    },
    {
      "cell_type": "code",
      "source": [
        "# Multi dimensional array \n",
        "#\n",
        "array_data2 = [[1, 2, 3, 4], [5, 6, 7, 8]]\n",
        "array2 = array(array_data2)\n",
        "print(\"Array 2: \", array2)"
      ],
      "metadata": {
        "colab": {
          "base_uri": "https://localhost:8080/"
        },
        "id": "SHXi5rt19rlE",
        "outputId": "b3972757-cedd-4656-87a1-02f9cf0894e0"
      },
      "execution_count": null,
      "outputs": [
        {
          "output_type": "stream",
          "name": "stdout",
          "text": [
            "Array 2:  [[1 2 3 4]\n",
            " [5 6 7 8]]\n"
          ]
        }
      ]
    },
    {
      "cell_type": "code",
      "source": [
        "# Check the Dimension of the array \n",
        "print(\"Dimension of array2 is \",array2.ndim)\n",
        "\n",
        "# Check the Size of Array \n",
        "print(\"Shape of array2 is \",array2.shape)"
      ],
      "metadata": {
        "colab": {
          "base_uri": "https://localhost:8080/"
        },
        "id": "hneqW73796ix",
        "outputId": "fa6c0fc9-0c7b-4fdc-d621-c386bc48f1a0"
      },
      "execution_count": null,
      "outputs": [
        {
          "output_type": "stream",
          "name": "stdout",
          "text": [
            "Dimension of array2 is  2\n",
            "Shape of array2 is  (2, 4)\n"
          ]
        }
      ]
    },
    {
      "cell_type": "code",
      "source": [
        "# Create and array of zeros \n",
        "Zero_Array = zeros((3, 6))\n",
        "print(\"Zero Array\",Zero_Array)\n"
      ],
      "metadata": {
        "colab": {
          "base_uri": "https://localhost:8080/"
        },
        "id": "-H4hc-Hl-AAA",
        "outputId": "66deb142-f345-46c6-c3c1-4595d540c046"
      },
      "execution_count": null,
      "outputs": [
        {
          "output_type": "stream",
          "name": "stdout",
          "text": [
            "Zero Array [[0. 0. 0. 0. 0. 0.]\n",
            " [0. 0. 0. 0. 0. 0.]\n",
            " [0. 0. 0. 0. 0. 0.]]\n"
          ]
        }
      ]
    },
    {
      "cell_type": "code",
      "source": [
        "# Check Data Type of Array \n",
        "array_data1 = [1,2,3,4]\n",
        "Array1 = array(array_data1)\n",
        "print(\"data type of Array1 is : \",Array1.dtype)"
      ],
      "metadata": {
        "colab": {
          "base_uri": "https://localhost:8080/"
        },
        "id": "Fe2YqfBs-ACz",
        "outputId": "3c41e7fe-eb07-4f69-aca9-56e7975300be"
      },
      "execution_count": null,
      "outputs": [
        {
          "output_type": "stream",
          "name": "stdout",
          "text": [
            "data type of Array1 is :  int64\n"
          ]
        }
      ]
    },
    {
      "cell_type": "markdown",
      "source": [
        "Arrays and Scalars\n",
        "Notes:1) Operations between Arrays of same size happens element wise\n",
        "Notes:2) Operations with Arrays and Scalars will propagate to each element"
      ],
      "metadata": {
        "id": "ee3ZxUaw-LEa"
      }
    },
    {
      "cell_type": "code",
      "source": [
        "#--------------------\n",
        "# ELement wise array multiplication \n",
        "#--------------------\n",
        "arr1 = array([[1,2,3],[4,5,6]])\n",
        "arr2 = arr1*arr1 \n",
        "print(\"Original Array \",arr1)\n",
        "print(\"Element wise sq of arr1 is : \",arr2)\n",
        "arr3 = arr1*2\n",
        "print(\"Double array element wise\", arr3)"
      ],
      "metadata": {
        "colab": {
          "base_uri": "https://localhost:8080/"
        },
        "id": "vKfNxA6s-AFg",
        "outputId": "9d52378f-8cb3-4eed-90a0-224870699cea"
      },
      "execution_count": null,
      "outputs": [
        {
          "output_type": "stream",
          "name": "stdout",
          "text": [
            "Original Array  [[1 2 3]\n",
            " [4 5 6]]\n",
            "Element wise sq of arr1 is :  [[ 1  4  9]\n",
            " [16 25 36]]\n",
            "Double array element wise [[ 2  4  6]\n",
            " [ 8 10 12]]\n"
          ]
        }
      ]
    },
    {
      "cell_type": "code",
      "source": [
        "#--------------------------------------------\n",
        "# Indexing and slicing of arrays \n",
        "#--------------------------------------------\n",
        "# Define Array of 10 elements \n",
        "Arr1 = array(arange(10))\n",
        "print(\"Arr1 before manipulation is :\",Arr1)\n",
        "\n",
        "\n",
        "# Choose Index pos 3 to 5 and create a sub array \n",
        "# Note the 5th Index position actually does not get selected \n",
        "# Note: Only elemenst upto the 5th position get selected \n",
        "Sub_Arr1 = Arr1[3:5]\n",
        "# Display elements of sub array \n",
        "print(\"Sub_Array before change is:\",Sub_Arr1)\n",
        "# Assign a fixed value to sub Array Index Pos 0 \n",
        "Sub_Arr1[0] = 56\n",
        "# Display elements of Sub_Arr1\n",
        "print(\"Sub Array after change :\",Sub_Arr1)\n",
        "\n",
        "\n",
        "\n",
        "# Display elements of original array \n",
        "# Note: change in sub Array caused change in main array \n",
        "print(\"Original Array is\",Arr1)\n",
        "\n",
        "\n",
        "\n",
        "# Assign a element to the entire Sub array \n",
        "Sub_Arr1 = 66\n",
        "# Display Sub Arry \n",
        "print(\"Sub Array after new assign is : \",Sub_Arr1)\n",
        "\n",
        "\n",
        "# Display main Array \n",
        "print(\"Main Array after new assign is : \", Arr1)\n"
      ],
      "metadata": {
        "colab": {
          "base_uri": "https://localhost:8080/"
        },
        "id": "IfH49VqS-AID",
        "outputId": "1ca85771-8e2e-444a-dc69-1143e479ed6b"
      },
      "execution_count": null,
      "outputs": [
        {
          "output_type": "stream",
          "name": "stdout",
          "text": [
            "Arr1 before manipulation is : [0 1 2 3 4 5 6 7 8 9]\n",
            "Sub_Array before change is: [3 4]\n",
            "Sub Array after change : [56  4]\n",
            "Original Array is [ 0  1  2 56  4  5  6  7  8  9]\n",
            "Sub Array after new assign is :  66\n",
            "Main Array after new assign is :  [ 0  1  2 56  4  5  6  7  8  9]\n"
          ]
        }
      ]
    },
    {
      "cell_type": "code",
      "source": [
        "# Boolean Indexing \n",
        "#-------------------------------\n",
        "# Create an Array of names \n",
        "Arr_Names = array(['Bob', 'Joe', 'Will', 'Bob', 'Will', 'Joe', 'Joe'])\n",
        "\n",
        "\n",
        "# Get Array size\n",
        "Arrsize = Arr_Names.shape\n",
        "Len1 = Arrsize[0]\n",
        "\n",
        "\n",
        "# Create a  Vector of random numbers of the same length\n",
        "# Init a  Vector of size = Len1 \n",
        "Rand_Set = array(arange(Len1))\n",
        "\n",
        "\n",
        "# Populate Vector with Random nos from 1 to 10 \n",
        "for i in range(Len1):\n",
        "    Rand_Set[i-1] = random.uniform(1,10)\n",
        "    \n",
        "# Display Rand Vector\n",
        "print(\"Rand Vector\",Rand_Set)\n",
        "\n",
        "\n",
        "# Get Those Index positions for which name = Bob \n",
        "# Use the index set to choose a sub set of Random Numbers \n",
        "Match_name_rand = Rand_Set[Arr_Names == 'Bob']\n",
        "print(\"Matching Sub set of Rand Num is:\",Match_name_rand)"
      ],
      "metadata": {
        "colab": {
          "base_uri": "https://localhost:8080/"
        },
        "id": "cqk6EhfL-AKo",
        "outputId": "01aab548-06fc-46e9-c69b-6d2aa9a71a12"
      },
      "execution_count": null,
      "outputs": [
        {
          "output_type": "stream",
          "name": "stdout",
          "text": [
            "Rand Vector [9 6 4 8 3 6 4]\n",
            "Matching Sub set of Rand Num is: [9 8]\n"
          ]
        }
      ]
    },
    {
      "cell_type": "markdown",
      "source": [
        "#Array Operations"
      ],
      "metadata": {
        "id": "efPRL9If-yb9"
      }
    },
    {
      "cell_type": "code",
      "source": [
        "# Slicing multi dimensional Arrays \n",
        "# define a 3 by 4 array \n",
        "Array1 = array([[1,2,3,4],[5,6,7,8],[9,10,11,12]])\n",
        "print(\"Original Array is \", Array1)\n",
        "Array_Slice1 = Array1[2,:2]\n",
        "print(\"Sliced Array is : \",Array_Slice1)"
      ],
      "metadata": {
        "colab": {
          "base_uri": "https://localhost:8080/"
        },
        "id": "OLkZbKAY-AM0",
        "outputId": "02564334-c525-4473-add0-f8c3e7c55c28"
      },
      "execution_count": null,
      "outputs": [
        {
          "output_type": "stream",
          "name": "stdout",
          "text": [
            "Original Array is  [[ 1  2  3  4]\n",
            " [ 5  6  7  8]\n",
            " [ 9 10 11 12]]\n",
            "Sliced Array is :  [ 9 10]\n"
          ]
        }
      ]
    },
    {
      "cell_type": "code",
      "source": [
        "#-------------\n",
        "# Square Root \n",
        "#-------------\n",
        "from numpy import *\n",
        "Arr = arange(10)\n",
        "Sqrt_Arr = sqrt(Arr)\n",
        "print(\"Sqrt Root values:\", Sqrt_Arr )"
      ],
      "metadata": {
        "colab": {
          "base_uri": "https://localhost:8080/"
        },
        "id": "64EqCJVA-AO-",
        "outputId": "b59015ee-5c0c-43f7-bec0-40869631198a"
      },
      "execution_count": null,
      "outputs": [
        {
          "output_type": "stream",
          "name": "stdout",
          "text": [
            "Sqrt Root values: [0.         1.         1.41421356 1.73205081 2.         2.23606798\n",
            " 2.44948974 2.64575131 2.82842712 3.        ]\n"
          ]
        }
      ]
    },
    {
      "cell_type": "code",
      "source": [
        "#--------------------------\n",
        "# Binary Function example \n",
        "#---------------------------\n",
        "\n",
        "# Create Two Arrays of 10 random numbers each \n",
        "x = random.randn(10)\n",
        "y = random.randn(10)\n",
        "# Print  both the arrays \n",
        "print(\"X Array is :\", x)\n",
        "print(\"Y Array is :\", y)\n",
        "# Get the Element wise max, comparing both arrays \n",
        "Max_XY = maximum(x,y)\n",
        "print(\"The Max element wise is :\", Max_XY)"
      ],
      "metadata": {
        "colab": {
          "base_uri": "https://localhost:8080/"
        },
        "id": "uPWCokbC_Bfe",
        "outputId": "0fbeea94-a582-4d0d-c50a-720256948fe9"
      },
      "execution_count": null,
      "outputs": [
        {
          "output_type": "stream",
          "name": "stdout",
          "text": [
            "X Array is : [-0.06293734  1.57803025 -0.06620154  1.32639762 -0.23240541 -0.15965628\n",
            "  0.73309881 -0.79761279  0.9004448   0.11336878]\n",
            "Y Array is : [ 7.62347366e-01 -4.55654991e-04  9.15821011e-01  1.51415201e+00\n",
            " -5.06918789e-01 -2.47970134e+00  6.89197240e-01 -6.04774660e-01\n",
            "  8.59858375e-01  4.91208897e-01]\n",
            "The Max element wise is : [ 0.76234737  1.57803025  0.91582101  1.51415201 -0.23240541 -0.15965628\n",
            "  0.73309881 -0.60477466  0.9004448   0.4912089 ]\n"
          ]
        }
      ]
    },
    {
      "cell_type": "code",
      "source": [
        "# Conditional logic as Array Operators\n",
        "# ---\n",
        "# Define Boolean Array \n",
        "Bool_Arr = array([True,False,True,False,True])\n",
        "X_Arr = array([1,2,3,4,5])\n",
        "Y_Arr = array([10,20,30,40,50])\n",
        "\n",
        "Choice = [(X if Z else Y) for X,Y,Z in zip(X_Arr,Y_Arr,Bool_Arr)]\n",
        "print(\"Choice: \",Choice)"
      ],
      "metadata": {
        "colab": {
          "base_uri": "https://localhost:8080/"
        },
        "id": "AVKP-7qZ_BiH",
        "outputId": "1b060ee7-1d21-4baf-b2cb-42088a035e7d"
      },
      "execution_count": null,
      "outputs": [
        {
          "output_type": "stream",
          "name": "stdout",
          "text": [
            "Choice:  [1, 20, 3, 40, 5]\n"
          ]
        }
      ]
    },
    {
      "cell_type": "code",
      "source": [
        "#---------------------------------\n",
        "# The where clause in arrays \n",
        "#---------------------------------\n",
        "# Create a 3x3 array of random numbers \n",
        "Arr3 = random.randn(3,3)\n",
        "print(\"original  Array is : \", Arr3)\n",
        "# Replace pos numbers with +2 and _ve nos with -2 \n",
        "Arr3_Chg = where(Arr3 > 0, 2, -2)\n",
        "# Print changed Array \n",
        "print(\"Chg Array is : \", Arr3_Chg)"
      ],
      "metadata": {
        "colab": {
          "base_uri": "https://localhost:8080/"
        },
        "id": "iSvd6yYK_Bk4",
        "outputId": "7e4bbdc3-1ea6-497a-a644-67128b49bc17"
      },
      "execution_count": null,
      "outputs": [
        {
          "output_type": "stream",
          "name": "stdout",
          "text": [
            "original  Array is :  [[-2.44872332  0.77068957 -0.6876222 ]\n",
            " [ 0.10548033 -0.26972485  0.92586402]\n",
            " [-0.16928784 -0.43330791 -0.44860913]]\n",
            "Chg Array is :  [[-2  2 -2]\n",
            " [ 2 -2  2]\n",
            " [-2 -2 -2]]\n"
          ]
        }
      ]
    },
    {
      "cell_type": "markdown",
      "source": [
        "#Basic Statistical functions\n"
      ],
      "metadata": {
        "id": "iLw3m4UZ_XCg"
      }
    },
    {
      "cell_type": "code",
      "source": [
        "Arr_Stat = array([[1,2,3],[4,5,6],[7,8,9]])\n",
        "# Mean\n",
        "Arr_Mean = mean(Arr_Stat) \n",
        "print(\"Mean of Array is: \",Arr_Mean)"
      ],
      "metadata": {
        "colab": {
          "base_uri": "https://localhost:8080/"
        },
        "id": "3Jd5lqWn_BnJ",
        "outputId": "4c613b5a-028d-4b07-f4da-4f1b2787580b"
      },
      "execution_count": null,
      "outputs": [
        {
          "output_type": "stream",
          "name": "stdout",
          "text": [
            "Mean of Array is:  5.0\n"
          ]
        }
      ]
    },
    {
      "cell_type": "code",
      "source": [
        "# Sum \n",
        "Arr_Sum = sum(Arr_Stat)\n",
        "print(\"Sum of Array is:\",Arr_Sum)"
      ],
      "metadata": {
        "colab": {
          "base_uri": "https://localhost:8080/"
        },
        "id": "s1FT75Kr_Bqo",
        "outputId": "50db622c-82a1-4feb-f4de-daaf2fe81e21"
      },
      "execution_count": null,
      "outputs": [
        {
          "output_type": "stream",
          "name": "stdout",
          "text": [
            "Sum of Array is: 45\n"
          ]
        }
      ]
    },
    {
      "cell_type": "code",
      "source": [
        "# Get Column means (0th dimension or axis )\n",
        "Arr_Mean_Cols = Arr_Stat.mean(0)\n",
        "print(\"Col_Means = :\", Arr_Mean_Cols)"
      ],
      "metadata": {
        "colab": {
          "base_uri": "https://localhost:8080/"
        },
        "id": "Sp-UbnyL_BxO",
        "outputId": "d8533b6d-92e8-4cb7-ad97-723579c6a829"
      },
      "execution_count": null,
      "outputs": [
        {
          "output_type": "stream",
          "name": "stdout",
          "text": [
            "Col_Means = : [4. 5. 6.]\n"
          ]
        }
      ]
    },
    {
      "cell_type": "markdown",
      "source": [
        "#Misc Array operations"
      ],
      "metadata": {
        "id": "j_ITjwEH_t3E"
      }
    },
    {
      "cell_type": "code",
      "source": [
        "#--------------------------------------------\n",
        "#   Sorting \n",
        "#--------------------------------------------\n",
        "Arr4 = array([10,2,34,5])\n",
        "Arr4_Sorted = sorted(Arr4) \n",
        "print(\"Unsorted Array is \",Arr4)\n",
        "print(\"Sorted Array is \",Arr4_Sorted)"
      ],
      "metadata": {
        "colab": {
          "base_uri": "https://localhost:8080/"
        },
        "id": "XX7NFBQC-ASB",
        "outputId": "42159ec5-4476-4b5e-e468-7ea59f025b6e"
      },
      "execution_count": null,
      "outputs": [
        {
          "output_type": "stream",
          "name": "stdout",
          "text": [
            "Unsorted Array is  [10  2 34  5]\n",
            "Sorted Array is  [2, 5, 10, 34]\n"
          ]
        }
      ]
    },
    {
      "cell_type": "code",
      "source": [
        "#-------------------------------------------------\n",
        "#  Unique  and other Array set operations \n",
        "#-------------------------------------------------\n",
        "# Create a Names Array \n",
        "Names_Arr = array([\"Jim\",\"Bob\",\"Roy\",\"Rajesh\",\"Roy\",\"Kumar\",\"Jeet\",\"Roy\",\"Joy\"])\n",
        "# Get Unique Names \n",
        "Names_Arr_Unq = unique(Names_Arr)\n",
        "print(\"Unique Names are \",Names_Arr_Unq)"
      ],
      "metadata": {
        "colab": {
          "base_uri": "https://localhost:8080/"
        },
        "id": "nzp3uTK2_0_Y",
        "outputId": "afd0f63e-3187-48b9-c887-bad94cac1a7a"
      },
      "execution_count": null,
      "outputs": [
        {
          "output_type": "stream",
          "name": "stdout",
          "text": [
            "Unique Names are  ['Bob' 'Jeet' 'Jim' 'Joy' 'Kumar' 'Rajesh' 'Roy']\n"
          ]
        }
      ]
    },
    {
      "cell_type": "code",
      "source": [
        "# Generate a 4 by 4  Array of random numbers following \n",
        "# Normal distribution \n",
        "#------------------------------------------------------\n",
        "Arr4by4 = random.normal(size=(4,4))\n",
        "print(Arr4by4)"
      ],
      "metadata": {
        "colab": {
          "base_uri": "https://localhost:8080/"
        },
        "id": "bByPM9uu_1FO",
        "outputId": "4ba95a3b-382c-492a-c6e3-806c465e407f"
      },
      "execution_count": null,
      "outputs": [
        {
          "output_type": "stream",
          "name": "stdout",
          "text": [
            "[[-1.17443549 -0.44273671  0.49931428 -0.37992068]\n",
            " [ 1.48472689 -0.66741855 -0.75740058  0.94477976]\n",
            " [-0.50952087  1.41341462  0.67638494  0.72420833]\n",
            " [-0.24335429 -0.31215037 -0.52099013 -1.38097438]]\n"
          ]
        }
      ]
    },
    {
      "cell_type": "markdown",
      "source": [
        "# END OF MODULE :- NUMPY"
      ],
      "metadata": {
        "id": "FpBwPg8HAFWV"
      }
    }
  ]
}