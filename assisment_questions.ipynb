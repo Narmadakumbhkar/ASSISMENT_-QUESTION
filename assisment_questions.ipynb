{
  "nbformat": 4,
  "nbformat_minor": 0,
  "metadata": {
    "colab": {
      "name": "assisment questions.ipynb",
      "provenance": [],
      "authorship_tag": "ABX9TyOP/dP0oxaiTsAGUXh5vpar",
      "include_colab_link": true
    },
    "kernelspec": {
      "name": "python3",
      "display_name": "Python 3"
    },
    "language_info": {
      "name": "python"
    }
  },
  "cells": [
    {
      "cell_type": "markdown",
      "metadata": {
        "id": "view-in-github",
        "colab_type": "text"
      },
      "source": [
        "<a href=\"https://colab.research.google.com/github/Narmadakumbhkar/ASSISMENT_-QUESTION/blob/main/assisment_questions.ipynb\" target=\"_parent\"><img src=\"https://colab.research.google.com/assets/colab-badge.svg\" alt=\"Open In Colab\"/></a>"
      ]
    },
    {
      "cell_type": "markdown",
      "source": [
        "#Assisment practice questions"
      ],
      "metadata": {
        "id": "ndrYZtnQrOJD"
      }
    },
    {
      "cell_type": "markdown",
      "source": [
        "##Q1:- write a program to do arithmetical operations."
      ],
      "metadata": {
        "id": "J7cYtRsEredL"
      }
    },
    {
      "cell_type": "code",
      "source": [
        "# arithmetical operators (07 types, +,_,*,/,%,**,//)"
      ],
      "metadata": {
        "id": "IN4nAY8utNJw"
      },
      "execution_count": null,
      "outputs": []
    },
    {
      "cell_type": "code",
      "source": [
        "a= 10\n",
        "b=20\n",
        "c=a+b\n",
        "print(c)"
      ],
      "metadata": {
        "colab": {
          "base_uri": "https://localhost:8080/"
        },
        "id": "boL-0P65tymd",
        "outputId": "48773b51-3c73-48f9-91ff-2d82c6c157f8"
      },
      "execution_count": null,
      "outputs": [
        {
          "output_type": "stream",
          "name": "stdout",
          "text": [
            "30\n"
          ]
        }
      ]
    },
    {
      "cell_type": "code",
      "source": [
        "a= int(input(\"enter a frist no= \"))          # Addition operator(ineger)\n",
        "b= int(input(\"enter a second no= \"))\n",
        "print(a+b)"
      ],
      "metadata": {
        "colab": {
          "base_uri": "https://localhost:8080/"
        },
        "id": "C1p78bI8tq4k",
        "outputId": "b786121d-d3b9-4b5e-a02c-3a370ee2f897"
      },
      "execution_count": null,
      "outputs": [
        {
          "output_type": "stream",
          "name": "stdout",
          "text": [
            "enter a frist no= 10\n",
            "enter a second no= 20\n",
            "30\n"
          ]
        }
      ]
    },
    {
      "cell_type": "code",
      "source": [
        "a= float(input(\"enter a frist no= \"))          # Addition operator(float)\n",
        "b= float(input(\"enter a second no= \"))\n",
        "print(a+b)"
      ],
      "metadata": {
        "colab": {
          "base_uri": "https://localhost:8080/"
        },
        "id": "ZW3uXnqXuTMZ",
        "outputId": "91802a97-4c01-4b26-ee5e-20a35f5c30c1"
      },
      "execution_count": null,
      "outputs": [
        {
          "output_type": "stream",
          "name": "stdout",
          "text": [
            "enter a frist no= 11.2\n",
            "enter a second no= 22.4\n",
            "33.599999999999994\n"
          ]
        }
      ]
    },
    {
      "cell_type": "code",
      "source": [
        "a= int(input(\"enter a frist no= \"))          # subtraction operator(int)\n",
        "b= int(input(\"enter a second no= \"))\n",
        "print(a-b)"
      ],
      "metadata": {
        "colab": {
          "base_uri": "https://localhost:8080/"
        },
        "id": "nQlTQqEhu5Le",
        "outputId": "89591e10-8781-4756-ba8b-0ac140239f54"
      },
      "execution_count": null,
      "outputs": [
        {
          "output_type": "stream",
          "name": "stdout",
          "text": [
            "enter a frist no= 200\n",
            "enter a second no= 100\n",
            "100\n"
          ]
        }
      ]
    },
    {
      "cell_type": "code",
      "source": [
        "a= float(input(\"enter a frist no= \"))          # subtraction operator(float)\n",
        "b= float(input(\"enter a second no= \"))\n",
        "print(a+b)"
      ],
      "metadata": {
        "colab": {
          "base_uri": "https://localhost:8080/"
        },
        "id": "vkULi9-XvFqo",
        "outputId": "e30893ec-6381-4722-eb1b-90671743cdf9"
      },
      "execution_count": null,
      "outputs": [
        {
          "output_type": "stream",
          "name": "stdout",
          "text": [
            "enter a frist no= 222\n",
            "enter a second no= 111\n",
            "333.0\n"
          ]
        }
      ]
    },
    {
      "cell_type": "code",
      "source": [
        "a= eval(input(\"enter a frist no= \"))          # subtraction operator(eval)\n",
        "b= eval(input(\"enter a second no= \"))\n",
        "print(a-b)"
      ],
      "metadata": {
        "colab": {
          "base_uri": "https://localhost:8080/"
        },
        "id": "QCdPVGSCvHMT",
        "outputId": "01413f6f-8f0d-42d2-9784-913f3109562e"
      },
      "execution_count": null,
      "outputs": [
        {
          "output_type": "stream",
          "name": "stdout",
          "text": [
            "enter a frist no= 35\n",
            "enter a second no= 23\n",
            "12\n"
          ]
        }
      ]
    },
    {
      "cell_type": "code",
      "source": [
        "a= int(input(\"enter a frist no= \"))          # multiplication operator(int)\n",
        "b= int(input(\"enter a second no= \"))\n",
        "print(a*b)"
      ],
      "metadata": {
        "colab": {
          "base_uri": "https://localhost:8080/"
        },
        "id": "-CdwtIyfvhRm",
        "outputId": "7536c1f0-5d53-4a28-d0d6-a80f080119a4"
      },
      "execution_count": null,
      "outputs": [
        {
          "output_type": "stream",
          "name": "stdout",
          "text": [
            "enter a frist no= 10\n",
            "enter a second no= 20\n",
            "200\n"
          ]
        }
      ]
    },
    {
      "cell_type": "code",
      "source": [
        "a= int(input(\"enter a frist no= \"))          # DIvision operator(int)\n",
        "b= int(input(\"enter a second no= \"))\n",
        "print(a/b)"
      ],
      "metadata": {
        "colab": {
          "base_uri": "https://localhost:8080/"
        },
        "id": "QDlKWS2Jv8HM",
        "outputId": "335097e6-8bc6-4c70-af94-6a0a45bc77a4"
      },
      "execution_count": null,
      "outputs": [
        {
          "output_type": "stream",
          "name": "stdout",
          "text": [
            "enter a frist no= 200\n",
            "enter a second no= 100\n",
            "2.0\n"
          ]
        }
      ]
    },
    {
      "cell_type": "code",
      "source": [
        "a= int(input(\"enter a frist no= \"))          # exponents operator(int)\n",
        "b= int(input(\"enter a second no= \"))\n",
        "print(a**b)"
      ],
      "metadata": {
        "colab": {
          "base_uri": "https://localhost:8080/"
        },
        "id": "gi4-c_-iv8Ng",
        "outputId": "a47b4abc-641a-495d-c6fd-80de7dd2e914"
      },
      "execution_count": null,
      "outputs": [
        {
          "output_type": "stream",
          "name": "stdout",
          "text": [
            "enter a frist no= 5\n",
            "enter a second no= 2\n",
            "25\n"
          ]
        }
      ]
    },
    {
      "cell_type": "code",
      "source": [
        "a= int(input(\"enter a frist no= \"))          # floor division operator(int)  \n",
        "b= int(input(\"enter a second no= \"))\n",
        "print(a//b)"
      ],
      "metadata": {
        "colab": {
          "base_uri": "https://localhost:8080/"
        },
        "id": "n7XD115Zv8Qz",
        "outputId": "11301e72-fd10-4e5f-89ec-99f5ac1b2c14"
      },
      "execution_count": null,
      "outputs": [
        {
          "output_type": "stream",
          "name": "stdout",
          "text": [
            "enter a frist no= 200\n",
            "enter a second no= 100\n",
            "2\n"
          ]
        }
      ]
    },
    {
      "cell_type": "code",
      "source": [
        "a= int(input(\"enter a frist no= \"))          # modulus operator(int)  (remender)\n",
        "b= int(input(\"enter a second no= \"))\n",
        "print(a%b)"
      ],
      "metadata": {
        "colab": {
          "base_uri": "https://localhost:8080/"
        },
        "id": "hY1NCK52v8a2",
        "outputId": "24d5e889-f2a9-4098-85c2-28c128fcb74b"
      },
      "execution_count": null,
      "outputs": [
        {
          "output_type": "stream",
          "name": "stdout",
          "text": [
            "enter a frist no= 45\n",
            "enter a second no= 2\n",
            "1\n"
          ]
        }
      ]
    },
    {
      "cell_type": "markdown",
      "source": [
        "##Q2:- Write a program to find the area of a right angle triangle."
      ],
      "metadata": {
        "id": "chx-OPTexYRU"
      }
    },
    {
      "cell_type": "code",
      "source": [
        "Base = int(input(\"enter a base value=\"))\n",
        "Height = int(input(\"enter a height value=\"))\n",
        "Area = 1/2*Base*Height\n",
        "print(Area)"
      ],
      "metadata": {
        "colab": {
          "base_uri": "https://localhost:8080/"
        },
        "id": "dj1v-F7Sxt6Y",
        "outputId": "001af7cc-2275-4033-d50d-b52484c7a4a1"
      },
      "execution_count": null,
      "outputs": [
        {
          "output_type": "stream",
          "name": "stdout",
          "text": [
            "enter a base value=40\n",
            "enter a height value=20\n",
            "400.0\n"
          ]
        }
      ]
    },
    {
      "cell_type": "markdown",
      "source": [
        "##Q3:- Write a program to check if a number is odd or even."
      ],
      "metadata": {
        "id": "8Qe9pLkpzBp5"
      }
    },
    {
      "cell_type": "code",
      "source": [
        "a= int(input(\"enter the value= \"))\n",
        "if a%2==0:\n",
        "  print(a,\"Even number\")\n",
        "else:\n",
        "  print(a,\"odd number\")"
      ],
      "metadata": {
        "colab": {
          "base_uri": "https://localhost:8080/"
        },
        "id": "mUaWBqQ0zOcV",
        "outputId": "fd784c4c-1100-4c24-aa1f-c8accc65ad8c"
      },
      "execution_count": null,
      "outputs": [
        {
          "output_type": "stream",
          "name": "stdout",
          "text": [
            "enter the value= 20\n",
            "20 Even number\n"
          ]
        }
      ]
    },
    {
      "cell_type": "code",
      "source": [
        "a= int(input(\"enter the value= \"))\n",
        "if a%2==0:\n",
        "  print(a,\"Even number\")\n",
        "else:\n",
        "  print(a,\"odd number\")"
      ],
      "metadata": {
        "colab": {
          "base_uri": "https://localhost:8080/"
        },
        "id": "pWdVZPvEz7EF",
        "outputId": "d3fdf7d9-d543-4147-ce8e-5f446f6672e2"
      },
      "execution_count": null,
      "outputs": [
        {
          "output_type": "stream",
          "name": "stdout",
          "text": [
            "enter the value= 33\n",
            "33 odd number\n"
          ]
        }
      ]
    },
    {
      "cell_type": "markdown",
      "source": [
        "## Write a program for simple interest."
      ],
      "metadata": {
        "id": "DI5yiryX0YBy"
      }
    },
    {
      "cell_type": "code",
      "source": [
        "principal =int(input(\"enter a p value= \"))\n",
        "Rate = int(input(\"enter a r value= \"))\n",
        "Time = int(input(\"enter a t value= \"))\n",
        "Simple_interest= principal*Rate*Time/100\n",
        "print(Simple_interest) "
      ],
      "metadata": {
        "colab": {
          "base_uri": "https://localhost:8080/"
        },
        "id": "1ID__V230kok",
        "outputId": "1836895a-1dad-43cf-a1c7-fef3d6d7220b"
      },
      "execution_count": null,
      "outputs": [
        {
          "output_type": "stream",
          "name": "stdout",
          "text": [
            "enter a p value= 2000\n",
            "enter a r value= 5\n",
            "enter a t value= 2\n",
            "200.0\n"
          ]
        }
      ]
    },
    {
      "cell_type": "code",
      "source": [
        "principal =int(input(\"enter a p value= \"))\n",
        "Rate = float(input(\"enter a r value= \"))\n",
        "Time = float(input(\"enter a t value= \"))\n",
        "Simple_interest= principal*Rate*Time/100\n",
        "print(Simple_interest) "
      ],
      "metadata": {
        "colab": {
          "base_uri": "https://localhost:8080/"
        },
        "id": "XpU_pos31yof",
        "outputId": "79f55363-1124-476a-fb67-2c4e69ccabaa"
      },
      "execution_count": null,
      "outputs": [
        {
          "output_type": "stream",
          "name": "stdout",
          "text": [
            "enter a p value= 2000\n",
            "enter a r value= 5.5\n",
            "enter a t value= 2.5\n",
            "275.0\n"
          ]
        }
      ]
    },
    {
      "cell_type": "markdown",
      "source": [
        "##Q5:- Write a program to Display the multiplication Table. "
      ],
      "metadata": {
        "id": "eRiUxaOs2n5d"
      }
    },
    {
      "cell_type": "code",
      "source": [
        "num = 20\n",
        "for i in range(1,11):\n",
        "  print(num,\"x\",i, '=',num*i)"
      ],
      "metadata": {
        "colab": {
          "base_uri": "https://localhost:8080/"
        },
        "id": "zSBkUaPE2-s6",
        "outputId": "143ae62d-13af-470b-91e7-da15d6fdd4e6"
      },
      "execution_count": null,
      "outputs": [
        {
          "output_type": "stream",
          "name": "stdout",
          "text": [
            "20 x 1 = 20\n",
            "20 x 2 = 40\n",
            "20 x 3 = 60\n",
            "20 x 4 = 80\n",
            "20 x 5 = 100\n",
            "20 x 6 = 120\n",
            "20 x 7 = 140\n",
            "20 x 8 = 160\n",
            "20 x 9 = 180\n",
            "20 x 10 = 200\n"
          ]
        }
      ]
    },
    {
      "cell_type": "code",
      "source": [
        "for a in range(1,11):\n",
        "  print(\"3*\",a,\"=\",3*a)"
      ],
      "metadata": {
        "colab": {
          "base_uri": "https://localhost:8080/"
        },
        "id": "57z71D6o41gL",
        "outputId": "bcdfd788-f1fc-4544-e8cc-02efb159f37e"
      },
      "execution_count": null,
      "outputs": [
        {
          "output_type": "stream",
          "name": "stdout",
          "text": [
            "3* 1 = 3\n",
            "3* 2 = 6\n",
            "3* 3 = 9\n",
            "3* 4 = 12\n",
            "3* 5 = 15\n",
            "3* 6 = 18\n",
            "3* 7 = 21\n",
            "3* 8 = 24\n",
            "3* 9 = 27\n",
            "3* 10 = 30\n"
          ]
        }
      ]
    },
    {
      "cell_type": "markdown",
      "source": [
        "##Q6:- Write a program to print 1 to 100 all even numbers."
      ],
      "metadata": {
        "id": "_QBXLNMJ6kl_"
      }
    },
    {
      "cell_type": "code",
      "source": [
        "for p in range(1,51):\n",
        "  print(\"2*\",p,\"=\",2*p)"
      ],
      "metadata": {
        "colab": {
          "base_uri": "https://localhost:8080/"
        },
        "id": "LlXWADuB6_i5",
        "outputId": "c4bdbe16-bfca-4eb7-c236-3864ac8220ec"
      },
      "execution_count": null,
      "outputs": [
        {
          "output_type": "stream",
          "name": "stdout",
          "text": [
            "2* 1 = 2\n",
            "2* 2 = 4\n",
            "2* 3 = 6\n",
            "2* 4 = 8\n",
            "2* 5 = 10\n",
            "2* 6 = 12\n",
            "2* 7 = 14\n",
            "2* 8 = 16\n",
            "2* 9 = 18\n",
            "2* 10 = 20\n",
            "2* 11 = 22\n",
            "2* 12 = 24\n",
            "2* 13 = 26\n",
            "2* 14 = 28\n",
            "2* 15 = 30\n",
            "2* 16 = 32\n",
            "2* 17 = 34\n",
            "2* 18 = 36\n",
            "2* 19 = 38\n",
            "2* 20 = 40\n",
            "2* 21 = 42\n",
            "2* 22 = 44\n",
            "2* 23 = 46\n",
            "2* 24 = 48\n",
            "2* 25 = 50\n",
            "2* 26 = 52\n",
            "2* 27 = 54\n",
            "2* 28 = 56\n",
            "2* 29 = 58\n",
            "2* 30 = 60\n",
            "2* 31 = 62\n",
            "2* 32 = 64\n",
            "2* 33 = 66\n",
            "2* 34 = 68\n",
            "2* 35 = 70\n",
            "2* 36 = 72\n",
            "2* 37 = 74\n",
            "2* 38 = 76\n",
            "2* 39 = 78\n",
            "2* 40 = 80\n",
            "2* 41 = 82\n",
            "2* 42 = 84\n",
            "2* 43 = 86\n",
            "2* 44 = 88\n",
            "2* 45 = 90\n",
            "2* 46 = 92\n",
            "2* 47 = 94\n",
            "2* 48 = 96\n",
            "2* 49 = 98\n",
            "2* 50 = 100\n"
          ]
        }
      ]
    },
    {
      "cell_type": "markdown",
      "source": [
        "##Q7:-Write a program to find the sum of the frist 50 numbers."
      ],
      "metadata": {
        "id": "3m4o4pGE8YIF"
      }
    },
    {
      "cell_type": "code",
      "source": [
        "sum = 0\n",
        "for i in range(1,51):\n",
        "  sum=sum+i\n",
        "print(sum)"
      ],
      "metadata": {
        "colab": {
          "base_uri": "https://localhost:8080/"
        },
        "id": "O1DyAmwg85rc",
        "outputId": "458b5b31-79c9-4222-e425-ceddd7f504a4"
      },
      "execution_count": null,
      "outputs": [
        {
          "output_type": "stream",
          "name": "stdout",
          "text": [
            "1275\n"
          ]
        }
      ]
    },
    {
      "cell_type": "markdown",
      "source": [
        "# ##Q8:- Write a program to find squares of 1 to 20 numbers."
      ],
      "metadata": {
        "id": "jhPXpL7E_KB9"
      }
    },
    {
      "cell_type": "code",
      "source": [
        "a= [1,2,3,4,5,6,7,8,9,10,11,12,13,14,15,16,17,18,19,20]\n",
        "for i in a:\n",
        "  print(i**2)"
      ],
      "metadata": {
        "colab": {
          "base_uri": "https://localhost:8080/"
        },
        "id": "lxruEOsxFMPK",
        "outputId": "39585476-8cdf-4a5e-f128-4f9f46ad62b1"
      },
      "execution_count": null,
      "outputs": [
        {
          "output_type": "stream",
          "name": "stdout",
          "text": [
            "1\n",
            "4\n",
            "9\n",
            "16\n",
            "25\n",
            "36\n",
            "49\n",
            "64\n",
            "81\n",
            "100\n",
            "121\n",
            "144\n",
            "169\n",
            "196\n",
            "225\n",
            "256\n",
            "289\n",
            "324\n",
            "361\n",
            "400\n"
          ]
        }
      ]
    },
    {
      "cell_type": "markdown",
      "source": [
        "##Q9:-Write a program for following Task\n",
        "### Given an integer,perform the following conditional actions:"
      ],
      "metadata": {
        "id": "Q065owuzGrl0"
      }
    },
    {
      "cell_type": "markdown",
      "source": [
        "###Q9(1):- if is odd, print weird.\n",
        "###(2):- if is even and in the inclusive range of 2 to 5, print Not Wierd. \n",
        "###(3):- if is even and in the inclusive range of 6 to 20, print weird.\n",
        "###(4):- if is even and greater than,20 print Not weird."
      ],
      "metadata": {
        "id": "OIvAJVIjHexj"
      }
    },
    {
      "cell_type": "code",
      "source": [
        "n = int(input())\n",
        "if n % 2 ==1:\n",
        "  print(\"weird\")\n",
        "elif n % 2 ==0 and 2 <= n <= 5:\n",
        "  print(\"not weird\")\n",
        "elif n % 2 == 0 and 6 <= n <= 20:\n",
        "  print(\"weird\")\n",
        "else:\n",
        "  print(\"not weird\")"
      ],
      "metadata": {
        "colab": {
          "base_uri": "https://localhost:8080/"
        },
        "id": "GWbrCKVBqkZr",
        "outputId": "6bf2fca8-4413-4340-bb7f-00109e5ccbb7"
      },
      "execution_count": null,
      "outputs": [
        {
          "output_type": "stream",
          "name": "stdout",
          "text": [
            "15\n",
            "weird\n"
          ]
        }
      ]
    },
    {
      "cell_type": "markdown",
      "source": [
        "##Q10:- Write a program for a number guessing game."
      ],
      "metadata": {
        "id": "szr_qaHEJPy4"
      }
    },
    {
      "cell_type": "code",
      "source": [
        "import random\n",
        "c_number = random.randrange(1,101)\n",
        "user_input = int(input(\"enter your number=\"))\n",
        "if user_input>c_number:\n",
        "  print(\"computer number\",c_number)\n",
        "  print(\"your guess number is too high\")\n",
        "elif c_number>user_input:\n",
        "  print(\"computer number\",c_number)\n",
        "  print(\"your guess number is too low\")\n",
        "else:\n",
        "  print(\"computer number\",c_number)\n",
        "  print(\"your guess number is equal\")"
      ],
      "metadata": {
        "colab": {
          "base_uri": "https://localhost:8080/"
        },
        "id": "lM9IW29EJhUQ",
        "outputId": "29a5cf12-a1f7-4909-8fa4-ad7465383859"
      },
      "execution_count": null,
      "outputs": [
        {
          "output_type": "stream",
          "name": "stdout",
          "text": [
            "enter your number=50\n",
            "computer number 48\n",
            "your guess number is too high\n"
          ]
        }
      ]
    }
  ]
}