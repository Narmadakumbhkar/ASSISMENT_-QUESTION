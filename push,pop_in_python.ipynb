{
  "nbformat": 4,
  "nbformat_minor": 0,
  "metadata": {
    "colab": {
      "name": "push,pop in python",
      "provenance": [],
      "authorship_tag": "ABX9TyMomGl/DWqKetxhXoq9wjVP",
      "include_colab_link": true
    },
    "kernelspec": {
      "name": "python3",
      "display_name": "Python 3"
    },
    "language_info": {
      "name": "python"
    }
  },
  "cells": [
    {
      "cell_type": "markdown",
      "metadata": {
        "id": "view-in-github",
        "colab_type": "text"
      },
      "source": [
        "<a href=\"https://colab.research.google.com/github/Narmadakumbhkar/ASSISMENT_-QUESTION/blob/main/push%2Cpop_in_python.ipynb\" target=\"_parent\"><img src=\"https://colab.research.google.com/assets/colab-badge.svg\" alt=\"Open In Colab\"/></a>"
      ]
    },
    {
      "cell_type": "code",
      "execution_count": 1,
      "metadata": {
        "colab": {
          "base_uri": "https://localhost:8080/"
        },
        "id": "VGGQ_kyzGUYn",
        "outputId": "90238a74-1fb8-4544-9012-e93fc8abcb2c"
      },
      "outputs": [
        {
          "name": "stdout",
          "output_type": "stream",
          "text": [
            "select opreration => 1.push() 2.pop() 3.quit()\n",
            "enter the choice = 1\n",
            "enter the element = 54\n",
            "['54']\n",
            "select opreration => 1.push() 2.pop() 3.quit()\n",
            "enter the choice = 1\n",
            "enter the element = 58\n",
            "['54', '58']\n",
            "select opreration => 1.push() 2.pop() 3.quit()\n",
            "enter the choice = 1\n",
            "enter the element = 72\n",
            "['54', '58', '72']\n",
            "select opreration => 1.push() 2.pop() 3.quit()\n",
            "enter the choice = 1\n",
            "enter the element = 68\n",
            "['54', '58', '72', '68']\n",
            "select opreration => 1.push() 2.pop() 3.quit()\n",
            "enter the choice = 1\n",
            "enter the element = 87\n",
            "['54', '58', '72', '68', '87']\n",
            "select opreration => 1.push() 2.pop() 3.quit()\n",
            "enter the choice = 2\n",
            "removed element 87\n",
            "['54', '58', '72', '68']\n",
            "select opreration => 1.push() 2.pop() 3.quit()\n",
            "enter the choice = 2\n",
            "removed element 68\n",
            "['54', '58', '72']\n",
            "select opreration => 1.push() 2.pop() 3.quit()\n",
            "enter the choice = 2\n",
            "removed element 72\n",
            "['54', '58']\n",
            "select opreration => 1.push() 2.pop() 3.quit()\n",
            "enter the choice = 2\n",
            "removed element 58\n",
            "['54']\n",
            "select opreration => 1.push() 2.pop() 3.quit()\n",
            "enter the choice = 2\n",
            "removed element 54\n",
            "[]\n",
            "select opreration => 1.push() 2.pop() 3.quit()\n",
            "enter the choice = 1\n",
            "enter the element = 30\n",
            "['30']\n",
            "select opreration => 1.push() 2.pop() 3.quit()\n",
            "enter the choice = 3\n"
          ]
        }
      ],
      "source": [
        "stack=[]\n",
        "def push():\n",
        "  element=input(\"enter the element = \")\n",
        "  stack.append(element)\n",
        "  print(stack)\n",
        "\n",
        "def pop():\n",
        "  if not stack:\n",
        "    print(\"stack is empty\")\n",
        "\n",
        "  else:\n",
        "    p=stack.pop()\n",
        "    print(\"removed element\",p)\n",
        "    print(stack)\n",
        "\n",
        "while True:\n",
        "  print(\"select opreration => 1.push() 2.pop() 3.quit()\")\n",
        "  choice=int(input(\"enter the choice = \"))\n",
        "  if choice==1:\n",
        "    push()\n",
        "  elif choice==2:\n",
        "    pop()\n",
        "  elif choice==3:\n",
        "    break\n",
        "  else:\n",
        "    print(\"**enter the correct option**\")          "
      ]
    },
    {
      "cell_type": "code",
      "source": [
        "stack=[]\n",
        "n=int(input(\"limit of element\"))\n",
        "def push():\n",
        "  if len(stack)==n:\n",
        "    print(\"overflow\")\n",
        "  element=input(\"enter the element = \")\n",
        "  stack.append(element)\n",
        "  print(stack)\n",
        "\n",
        "def pop():\n",
        "  if not stack:\n",
        "    print(\"stack is empty\")\n",
        "\n",
        "  else:\n",
        "    p=stack.pop()\n",
        "    print(\" stack is remove element\")\n",
        "    print(stack)\n",
        "\n",
        "while True:\n",
        "  print(\"select opreration => 1.push() 2.pop() 3.quit()\")\n",
        "  choice=int(input())\n",
        "  if choice==1:\n",
        "    push()\n",
        "  elif choice==2:\n",
        "    pop()\n",
        "  elif choice==3:\n",
        "    break\n",
        "  else:\n",
        "    print(\"**enter the correct option**\")          "
      ],
      "metadata": {
        "colab": {
          "base_uri": "https://localhost:8080/"
        },
        "id": "VkFz7QfFLG6-",
        "outputId": "dbcb7e16-432d-4d10-ab19-2234a548c5cc"
      },
      "execution_count": 3,
      "outputs": [
        {
          "name": "stdout",
          "output_type": "stream",
          "text": [
            "limit of element1\n",
            "select opreration => 1.push() 2.pop() 3.quit()\n",
            "20\n",
            "**enter the correct option**\n",
            "select opreration => 1.push() 2.pop() 3.quit()\n",
            "1\n",
            "enter the element = 30\n",
            "['30']\n",
            "select opreration => 1.push() 2.pop() 3.quit()\n",
            "1\n",
            "overflow\n",
            "enter the element = 40\n",
            "['30', '40']\n",
            "select opreration => 1.push() 2.pop() 3.quit()\n",
            "50\n",
            "**enter the correct option**\n",
            "select opreration => 1.push() 2.pop() 3.quit()\n",
            "1\n",
            "enter the element = 60\n",
            "['30', '40', '60']\n",
            "select opreration => 1.push() 2.pop() 3.quit()\n",
            "1\n",
            "enter the element = 70\n",
            "['30', '40', '60', '70']\n",
            "select opreration => 1.push() 2.pop() 3.quit()\n",
            "2\n",
            " stack is remove element\n",
            "['30', '40', '60']\n",
            "select opreration => 1.push() 2.pop() 3.quit()\n",
            "2\n",
            " stack is remove element\n",
            "['30', '40']\n",
            "select opreration => 1.push() 2.pop() 3.quit()\n",
            "2\n",
            " stack is remove element\n",
            "['30']\n",
            "select opreration => 1.push() 2.pop() 3.quit()\n",
            "3\n"
          ]
        }
      ]
    },
    {
      "cell_type": "code",
      "source": [
        ""
      ],
      "metadata": {
        "id": "co5gvz5lMND7"
      },
      "execution_count": null,
      "outputs": []
    }
  ]
}